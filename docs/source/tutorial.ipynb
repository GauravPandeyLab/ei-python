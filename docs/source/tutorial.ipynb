{
 "cells": [
  {
   "cell_type": "markdown",
   "metadata": {},
   "source": [
    "# Tutorial"
   ]
  },
  {
   "cell_type": "markdown",
   "metadata": {},
   "source": [
    "In this tutorial we fairly compare a number of ensemble methods using EI's built in nested cross-validation implementation, and show how predictions can be made with the selected final model. We then show how we can intepret the model by calculating feature rankings.\n",
    "\n",
    "### Performance analysis and selection of ensemble methods\n",
    "\n",
    "First of all let's import some `sklearn` models, `EnsembleIntegration` and some additional ensemble methods:"
   ]
  },
  {
   "cell_type": "code",
   "execution_count": 1,
   "metadata": {},
   "outputs": [],
   "source": [
    "from sklearn.ensemble import AdaBoostClassifier, GradientBoostingClassifier, RandomForestClassifier\n",
    "from sklearn.tree import DecisionTreeClassifier\n",
    "from sklearn.neighbors import KNeighborsClassifier\n",
    "from sklearn.linear_model import LogisticRegression\n",
    "from sklearn.naive_bayes import GaussianNB\n",
    "from sklearn.svm import SVC\n",
    "from sklearn.neural_network import MLPClassifier\n",
    "from xgboost import XGBClassifier\n",
    "import pandas as pd\n",
    "from eipy.ei import EnsembleIntegration\n",
    "from eipy.additional_ensembles import MeanAggregation, CES"
   ]
  },
  {
   "cell_type": "markdown",
   "metadata": {},
   "source": [
    "Next make some dummy \"multi-modal\" data from the breast cancer dataset:"
   ]
  },
  {
   "cell_type": "code",
   "execution_count": 2,
   "metadata": {},
   "outputs": [],
   "source": [
    "import numpy as np\n",
    "from sklearn.datasets import load_breast_cancer\n",
    "from sklearn.model_selection import train_test_split\n",
    "\n",
    "data = load_breast_cancer()\n",
    "feature_names = data.feature_names\n",
    "X = data.data\n",
    "X = pd.DataFrame(X, columns=feature_names)  # add feature names\n",
    "y = np.abs(data.target - 1)  # make \"malignancy\" the positive class rather than \"benign\"\n",
    "\n",
    "X_1 = X.iloc[:, 0:10]\n",
    "X_2 = X.iloc[:, 10:]\n",
    "\n",
    "X_1_train, X_1_test, y_train, y_test = train_test_split(X_1, y, test_size=0.2, random_state=3, stratify=y)\n",
    "X_2_train, X_2_test, _, _ = train_test_split(X_2, y, test_size=0.2, random_state=3, stratify=y)"
   ]
  },
  {
   "cell_type": "markdown",
   "metadata": {},
   "source": [
    "Create dictionaries containing data modalities:"
   ]
  },
  {
   "cell_type": "code",
   "execution_count": 3,
   "metadata": {},
   "outputs": [],
   "source": [
    "data_train = {\n",
    "                \"Modality_1\": X_1_train,\n",
    "                \"Modality_2\": X_2_train\n",
    "                }\n",
    "\n",
    "data_test = {\n",
    "                \"Modality_1\": X_1_test,\n",
    "                \"Modality_2\": X_2_test\n",
    "                }"
   ]
  },
  {
   "cell_type": "markdown",
   "metadata": {},
   "source": [
    "Define metrics of interest."
   ]
  },
  {
   "cell_type": "code",
   "execution_count": 4,
   "metadata": {},
   "outputs": [],
   "source": [
    "from sklearn.metrics import f1_score, roc_auc_score, matthews_corrcoef\n",
    "\n",
    "metrics = {\n",
    "            'f_max': f1_score,  # max suffix in the metric key will return the maximized f1_score\n",
    "            'auc': roc_auc_score,\n",
    "            'mcc_max': matthews_corrcoef  # max suffix in the metric key will return the maximized matthews_corrcoef\n",
    "            }"
   ]
  },
  {
   "cell_type": "markdown",
   "metadata": {},
   "source": [
    "Define base predictors:"
   ]
  },
  {
   "cell_type": "code",
   "execution_count": 5,
   "metadata": {},
   "outputs": [],
   "source": [
    "base_predictors = {\n",
    "                    'ADAB': AdaBoostClassifier(),\n",
    "                    'XGB': XGBClassifier(),\n",
    "                    'DT': DecisionTreeClassifier(),\n",
    "                    'RF': RandomForestClassifier(), \n",
    "                    'GB': GradientBoostingClassifier(),\n",
    "                    'KNN': KNeighborsClassifier(),\n",
    "                    'LR': LogisticRegression(),\n",
    "                    'NB': GaussianNB(),\n",
    "                    'MLP': MLPClassifier(),\n",
    "                    'SVM': SVC(probability=True),\n",
    "}"
   ]
  },
  {
   "cell_type": "markdown",
   "metadata": {},
   "source": [
    "Initialise Ensemble Integration:"
   ]
  },
  {
   "cell_type": "code",
   "execution_count": 6,
   "metadata": {},
   "outputs": [],
   "source": [
    "EI = EnsembleIntegration(\n",
    "                        base_predictors=base_predictors,\n",
    "                        k_outer=5,\n",
    "                        k_inner=5,\n",
    "                        n_samples=1,\n",
    "                        sampling_strategy=\"undersampling\",\n",
    "                        sampling_aggregation=\"mean\",\n",
    "                        n_jobs=-1,\n",
    "                        metrics=metrics,\n",
    "                        random_state=38,\n",
    "                        project_name=\"breast_cancer\",\n",
    "                        model_building=True,\n",
    "                        )"
   ]
  },
  {
   "cell_type": "markdown",
   "metadata": {},
   "source": [
    "Fit base predictors on each modality. Remember to include the unique modality name."
   ]
  },
  {
   "cell_type": "code",
   "execution_count": 7,
   "metadata": {},
   "outputs": [
    {
     "name": "stdout",
     "output_type": "stream",
     "text": [
      "Training base predictors on Modality_1...\n",
      "        \n",
      "... for ensemble performance analysis...\n"
     ]
    },
    {
     "name": "stderr",
     "output_type": "stream",
     "text": [
      "Generating meta training data: |          |  0%"
     ]
    },
    {
     "name": "stderr",
     "output_type": "stream",
     "text": [
      "Generating meta training data: |██████████|100%\n",
      "Generating meta test data: |██████████|100%\n"
     ]
    },
    {
     "name": "stdout",
     "output_type": "stream",
     "text": [
      "\n",
      "... for final ensemble...\n"
     ]
    },
    {
     "name": "stderr",
     "output_type": "stream",
     "text": [
      "Generating meta training data: |██████████|100%\n",
      "Training final base predictors: |██████████|100%\n"
     ]
    },
    {
     "name": "stdout",
     "output_type": "stream",
     "text": [
      "\n",
      "\n",
      "Training base predictors on Modality_2...\n",
      "        \n",
      "... for ensemble performance analysis...\n"
     ]
    },
    {
     "name": "stderr",
     "output_type": "stream",
     "text": [
      "Generating meta training data: |██████████|100%\n",
      "Generating meta test data: |██████████|100%\n"
     ]
    },
    {
     "name": "stdout",
     "output_type": "stream",
     "text": [
      "\n",
      "... for final ensemble...\n"
     ]
    },
    {
     "name": "stderr",
     "output_type": "stream",
     "text": [
      "Generating meta training data: |██████████|100%\n",
      "Training final base predictors: |██████████|100%\n"
     ]
    },
    {
     "name": "stdout",
     "output_type": "stream",
     "text": [
      "\n",
      "\n"
     ]
    }
   ],
   "source": [
    "for name, modality in data_train.items():\n",
    "    EI.fit_base(modality, y_train, modality_name=name)"
   ]
  },
  {
   "cell_type": "markdown",
   "metadata": {},
   "source": [
    "We can check the cross validated performance of each base predictor on each modality with `base_summary`:"
   ]
  },
  {
   "cell_type": "code",
   "execution_count": 8,
   "metadata": {},
   "outputs": [
    {
     "data": {
      "text/html": [
       "<div>\n",
       "<style scoped>\n",
       "    .dataframe tbody tr th:only-of-type {\n",
       "        vertical-align: middle;\n",
       "    }\n",
       "\n",
       "    .dataframe tbody tr th {\n",
       "        vertical-align: top;\n",
       "    }\n",
       "\n",
       "    .dataframe thead tr th {\n",
       "        text-align: left;\n",
       "    }\n",
       "</style>\n",
       "<table border=\"1\" class=\"dataframe\">\n",
       "  <thead>\n",
       "    <tr>\n",
       "      <th>modality</th>\n",
       "      <th colspan=\"10\" halign=\"left\">Modality_1</th>\n",
       "      <th colspan=\"10\" halign=\"left\">Modality_2</th>\n",
       "    </tr>\n",
       "    <tr>\n",
       "      <th>base predictor</th>\n",
       "      <th>ADAB</th>\n",
       "      <th>DT</th>\n",
       "      <th>GB</th>\n",
       "      <th>KNN</th>\n",
       "      <th>LR</th>\n",
       "      <th>MLP</th>\n",
       "      <th>NB</th>\n",
       "      <th>RF</th>\n",
       "      <th>SVM</th>\n",
       "      <th>XGB</th>\n",
       "      <th>ADAB</th>\n",
       "      <th>DT</th>\n",
       "      <th>GB</th>\n",
       "      <th>KNN</th>\n",
       "      <th>LR</th>\n",
       "      <th>MLP</th>\n",
       "      <th>NB</th>\n",
       "      <th>RF</th>\n",
       "      <th>SVM</th>\n",
       "      <th>XGB</th>\n",
       "    </tr>\n",
       "  </thead>\n",
       "  <tbody>\n",
       "    <tr>\n",
       "      <th>f_max</th>\n",
       "      <td>0.918129</td>\n",
       "      <td>0.890173</td>\n",
       "      <td>0.919075</td>\n",
       "      <td>0.836013</td>\n",
       "      <td>0.882022</td>\n",
       "      <td>0.825397</td>\n",
       "      <td>0.896359</td>\n",
       "      <td>0.912181</td>\n",
       "      <td>0.844156</td>\n",
       "      <td>0.927711</td>\n",
       "      <td>0.952663</td>\n",
       "      <td>0.902857</td>\n",
       "      <td>0.935385</td>\n",
       "      <td>0.896755</td>\n",
       "      <td>0.936047</td>\n",
       "      <td>0.895522</td>\n",
       "      <td>0.935294</td>\n",
       "      <td>0.941896</td>\n",
       "      <td>0.882540</td>\n",
       "      <td>0.943284</td>\n",
       "    </tr>\n",
       "    <tr>\n",
       "      <th>auc</th>\n",
       "      <td>0.977802</td>\n",
       "      <td>0.914345</td>\n",
       "      <td>0.977564</td>\n",
       "      <td>0.917214</td>\n",
       "      <td>0.970320</td>\n",
       "      <td>0.924272</td>\n",
       "      <td>0.972621</td>\n",
       "      <td>0.974592</td>\n",
       "      <td>0.935459</td>\n",
       "      <td>0.979608</td>\n",
       "      <td>0.984128</td>\n",
       "      <td>0.926109</td>\n",
       "      <td>0.984004</td>\n",
       "      <td>0.958524</td>\n",
       "      <td>0.988524</td>\n",
       "      <td>0.963715</td>\n",
       "      <td>0.987255</td>\n",
       "      <td>0.987513</td>\n",
       "      <td>0.966130</td>\n",
       "      <td>0.984727</td>\n",
       "    </tr>\n",
       "    <tr>\n",
       "      <th>mcc_max</th>\n",
       "      <td>0.868874</td>\n",
       "      <td>0.823152</td>\n",
       "      <td>0.872648</td>\n",
       "      <td>0.759582</td>\n",
       "      <td>0.811426</td>\n",
       "      <td>0.745580</td>\n",
       "      <td>0.832252</td>\n",
       "      <td>0.858614</td>\n",
       "      <td>0.775230</td>\n",
       "      <td>0.887129</td>\n",
       "      <td>0.924733</td>\n",
       "      <td>0.843132</td>\n",
       "      <td>0.901928</td>\n",
       "      <td>0.835469</td>\n",
       "      <td>0.897343</td>\n",
       "      <td>0.841350</td>\n",
       "      <td>0.896698</td>\n",
       "      <td>0.911979</td>\n",
       "      <td>0.827026</td>\n",
       "      <td>0.910652</td>\n",
       "    </tr>\n",
       "  </tbody>\n",
       "</table>\n",
       "</div>"
      ],
      "text/plain": [
       "modality       Modality_1                                                    \\\n",
       "base predictor       ADAB        DT        GB       KNN        LR       MLP   \n",
       "f_max            0.918129  0.890173  0.919075  0.836013  0.882022  0.825397   \n",
       "auc              0.977802  0.914345  0.977564  0.917214  0.970320  0.924272   \n",
       "mcc_max          0.868874  0.823152  0.872648  0.759582  0.811426  0.745580   \n",
       "\n",
       "modality                                               Modality_2            \\\n",
       "base predictor        NB        RF       SVM       XGB       ADAB        DT   \n",
       "f_max           0.896359  0.912181  0.844156  0.927711   0.952663  0.902857   \n",
       "auc             0.972621  0.974592  0.935459  0.979608   0.984128  0.926109   \n",
       "mcc_max         0.832252  0.858614  0.775230  0.887129   0.924733  0.843132   \n",
       "\n",
       "modality                                                                    \\\n",
       "base predictor        GB       KNN        LR       MLP        NB        RF   \n",
       "f_max           0.935385  0.896755  0.936047  0.895522  0.935294  0.941896   \n",
       "auc             0.984004  0.958524  0.988524  0.963715  0.987255  0.987513   \n",
       "mcc_max         0.901928  0.835469  0.897343  0.841350  0.896698  0.911979   \n",
       "\n",
       "modality                            \n",
       "base predictor       SVM       XGB  \n",
       "f_max           0.882540  0.943284  \n",
       "auc             0.966130  0.984727  \n",
       "mcc_max         0.827026  0.910652  "
      ]
     },
     "execution_count": 8,
     "metadata": {},
     "output_type": "execute_result"
    }
   ],
   "source": [
    "EI.base_summary['metrics']"
   ]
  },
  {
   "cell_type": "markdown",
   "metadata": {},
   "source": [
    "Now let's define some meta models for stacked generalization. We add an \"S.\" prefix to the keys of stacking algorithms."
   ]
  },
  {
   "cell_type": "code",
   "execution_count": 14,
   "metadata": {},
   "outputs": [],
   "source": [
    "from eipy.metrics import max_min_score\n",
    "\n",
    "def fmax_scorer(y_true, y_pred):  # create fmax scorer\n",
    "     return max_min_score(y_true=y_true, \n",
    "                          y_pred=y_pred, \n",
    "                          metric=f1_score, \n",
    "                          pos_label=1,\n",
    "                          max_min='max'\n",
    "                          )\n",
    "\n",
    "meta_predictors = {     \n",
    "                    'Mean' : MeanAggregation(),\n",
    "                    'CES' : CES(scoring=fmax_scorer),\n",
    "                    'S.ADAB': AdaBoostClassifier(),\n",
    "                    'S.XGB': XGBClassifier(),\n",
    "                    'S.DT': DecisionTreeClassifier(),\n",
    "                    \"S.RF\": RandomForestClassifier(), \n",
    "                    'S.GB': GradientBoostingClassifier(),\n",
    "                    'S.KNN': KNeighborsClassifier(),\n",
    "                    'S.LR': LogisticRegression(),\n",
    "                    'S.NB': GaussianNB(),\n",
    "                    'S.MLP': MLPClassifier(),\n",
    "                    'S.SVM': SVC(probability=True),\n",
    "}"
   ]
  },
  {
   "cell_type": "code",
   "execution_count": 15,
   "metadata": {},
   "outputs": [
    {
     "data": {
      "text/plain": [
       "(0.8571428571428571, 0.2)"
      ]
     },
     "execution_count": 15,
     "metadata": {},
     "output_type": "execute_result"
    }
   ],
   "source": [
    "fmax_scorer([1, 0, 1, 1], [0.9, 0.4, 0.2, 0.5])"
   ]
  },
  {
   "cell_type": "markdown",
   "metadata": {},
   "source": [
    "Fit meta models:"
   ]
  },
  {
   "cell_type": "code",
   "execution_count": 16,
   "metadata": {},
   "outputs": [
    {
     "name": "stderr",
     "output_type": "stream",
     "text": [
      "Analyzing ensembles: |          |  0%"
     ]
    },
    {
     "name": "stderr",
     "output_type": "stream",
     "text": [
      "Analyzing ensembles: |▊         |  8%\n"
     ]
    },
    {
     "ename": "TypeError",
     "evalue": "DataFrame.sort_values() missing 1 required positional argument: 'by'",
     "output_type": "error",
     "traceback": [
      "\u001b[0;31m---------------------------------------------------------------------------\u001b[0m",
      "\u001b[0;31mTypeError\u001b[0m                                 Traceback (most recent call last)",
      "\u001b[1;32m/home/opc/storage/eipy/docs/source/tutorial.ipynb Cell 22\u001b[0m line \u001b[0;36m1\n\u001b[0;32m----> <a href='vscode-notebook-cell://ssh-remote%2Bjamie_cpu_2022-04-13/home/opc/storage/eipy/docs/source/tutorial.ipynb#X24sdnNjb2RlLXJlbW90ZQ%3D%3D?line=0'>1</a>\u001b[0m EI\u001b[39m.\u001b[39;49mfit_meta(meta_predictors\u001b[39m=\u001b[39;49mmeta_predictors)\n",
      "File \u001b[0;32m~/storage/eipy/.venv/lib/python3.11/site-packages/sklearn/utils/_testing.py:188\u001b[0m, in \u001b[0;36m_IgnoreWarnings.__call__.<locals>.wrapper\u001b[0;34m(*args, **kwargs)\u001b[0m\n\u001b[1;32m    186\u001b[0m \u001b[39mwith\u001b[39;00m warnings\u001b[39m.\u001b[39mcatch_warnings():\n\u001b[1;32m    187\u001b[0m     warnings\u001b[39m.\u001b[39msimplefilter(\u001b[39m\"\u001b[39m\u001b[39mignore\u001b[39m\u001b[39m\"\u001b[39m, \u001b[39mself\u001b[39m\u001b[39m.\u001b[39mcategory)\n\u001b[0;32m--> 188\u001b[0m     \u001b[39mreturn\u001b[39;00m fn(\u001b[39m*\u001b[39;49margs, \u001b[39m*\u001b[39;49m\u001b[39m*\u001b[39;49mkwargs)\n",
      "File \u001b[0;32m~/storage/eipy/eipy/ei.py:283\u001b[0m, in \u001b[0;36mEnsembleIntegration.fit_meta\u001b[0;34m(self, meta_predictors)\u001b[0m\n\u001b[1;32m    280\u001b[0m     X_train \u001b[39m=\u001b[39m X_train\u001b[39m.\u001b[39mT\u001b[39m.\u001b[39mgroupby(level\u001b[39m=\u001b[39m[\u001b[39m0\u001b[39m, \u001b[39m1\u001b[39m])\u001b[39m.\u001b[39mmean()\u001b[39m.\u001b[39mT\n\u001b[1;32m    281\u001b[0m     X_test \u001b[39m=\u001b[39m X_test\u001b[39m.\u001b[39mT\u001b[39m.\u001b[39mgroupby(level\u001b[39m=\u001b[39m[\u001b[39m0\u001b[39m, \u001b[39m1\u001b[39m])\u001b[39m.\u001b[39mmean()\u001b[39m.\u001b[39mT\n\u001b[0;32m--> 283\u001b[0m model\u001b[39m.\u001b[39;49mfit(X_train, y_train)\n\u001b[1;32m    284\u001b[0m y_pred \u001b[39m=\u001b[39m safe_predict_proba(model, X_test)\n\u001b[1;32m    285\u001b[0m y_pred_combined\u001b[39m.\u001b[39mextend(y_pred)\n",
      "File \u001b[0;32m~/storage/eipy/eipy/additional_ensembles.py:100\u001b[0m, in \u001b[0;36mCES.fit\u001b[0;34m(self, X, y)\u001b[0m\n\u001b[1;32m     97\u001b[0m \u001b[39mself\u001b[39m\u001b[39m.\u001b[39mtrain_performance \u001b[39m=\u001b[39m []\n\u001b[1;32m     99\u001b[0m \u001b[39mself\u001b[39m\u001b[39m.\u001b[39mrng_generator \u001b[39m=\u001b[39m np\u001b[39m.\u001b[39mrandom\u001b[39m.\u001b[39mdefault_rng(seed\u001b[39m=\u001b[39m\u001b[39mself\u001b[39m\u001b[39m.\u001b[39mrandom_state)\n\u001b[0;32m--> 100\u001b[0m best_classifiers \u001b[39m=\u001b[39m X\u001b[39m.\u001b[39;49mapply(\u001b[39mlambda\u001b[39;49;00m x: \u001b[39mself\u001b[39;49m\u001b[39m.\u001b[39;49mscoring(y, x))\u001b[39m.\u001b[39;49msort_values(\n\u001b[1;32m    101\u001b[0m     ascending\u001b[39m=\u001b[39;49m\u001b[39mself\u001b[39;49m\u001b[39m.\u001b[39;49mgreater_is_better\n\u001b[1;32m    102\u001b[0m )\n\u001b[1;32m    103\u001b[0m \u001b[39mfor\u001b[39;00m i \u001b[39min\u001b[39;00m \u001b[39mrange\u001b[39m(\u001b[39mmin\u001b[39m(\u001b[39mself\u001b[39m\u001b[39m.\u001b[39mmax_ensemble_size, \u001b[39mlen\u001b[39m(best_classifiers))):\n\u001b[1;32m    104\u001b[0m     best_candidate \u001b[39m=\u001b[39m \u001b[39mself\u001b[39m\u001b[39m.\u001b[39mselect_candidate_enhanced(\n\u001b[1;32m    105\u001b[0m         X, y, best_classifiers, \u001b[39mself\u001b[39m\u001b[39m.\u001b[39mselected_ensemble, i\n\u001b[1;32m    106\u001b[0m     )\n",
      "\u001b[0;31mTypeError\u001b[0m: DataFrame.sort_values() missing 1 required positional argument: 'by'"
     ]
    }
   ],
   "source": [
    "EI.fit_meta(meta_predictors=meta_predictors)"
   ]
  },
  {
   "cell_type": "markdown",
   "metadata": {},
   "source": [
    "Check the meta summary with `meta_summary`:"
   ]
  },
  {
   "cell_type": "code",
   "execution_count": 13,
   "metadata": {},
   "outputs": [
    {
     "data": {
      "text/html": [
       "<div>\n",
       "<style scoped>\n",
       "    .dataframe tbody tr th:only-of-type {\n",
       "        vertical-align: middle;\n",
       "    }\n",
       "\n",
       "    .dataframe tbody tr th {\n",
       "        vertical-align: top;\n",
       "    }\n",
       "\n",
       "    .dataframe thead th {\n",
       "        text-align: right;\n",
       "    }\n",
       "</style>\n",
       "<table border=\"1\" class=\"dataframe\">\n",
       "  <thead>\n",
       "    <tr style=\"text-align: right;\">\n",
       "      <th></th>\n",
       "      <th>Mean</th>\n",
       "      <th>S.ADAB</th>\n",
       "      <th>S.XGB</th>\n",
       "      <th>S.DT</th>\n",
       "      <th>S.RF</th>\n",
       "      <th>S.GB</th>\n",
       "      <th>S.KNN</th>\n",
       "      <th>S.LR</th>\n",
       "      <th>S.NB</th>\n",
       "      <th>S.MLP</th>\n",
       "      <th>S.SVM</th>\n",
       "    </tr>\n",
       "  </thead>\n",
       "  <tbody>\n",
       "    <tr>\n",
       "      <th>f_max</th>\n",
       "      <td>0.939130</td>\n",
       "      <td>0.936047</td>\n",
       "      <td>0.948640</td>\n",
       "      <td>0.935294</td>\n",
       "      <td>0.953846</td>\n",
       "      <td>0.950725</td>\n",
       "      <td>0.943620</td>\n",
       "      <td>0.953488</td>\n",
       "      <td>0.941860</td>\n",
       "      <td>0.956012</td>\n",
       "      <td>0.949853</td>\n",
       "    </tr>\n",
       "    <tr>\n",
       "      <th>auc</th>\n",
       "      <td>0.988710</td>\n",
       "      <td>0.981424</td>\n",
       "      <td>0.984727</td>\n",
       "      <td>0.948349</td>\n",
       "      <td>0.985614</td>\n",
       "      <td>0.979567</td>\n",
       "      <td>0.975697</td>\n",
       "      <td>0.988338</td>\n",
       "      <td>0.975728</td>\n",
       "      <td>0.983240</td>\n",
       "      <td>0.979794</td>\n",
       "    </tr>\n",
       "    <tr>\n",
       "      <th>mcc_max</th>\n",
       "      <td>0.902221</td>\n",
       "      <td>0.897343</td>\n",
       "      <td>0.920153</td>\n",
       "      <td>0.896698</td>\n",
       "      <td>0.930686</td>\n",
       "      <td>0.920897</td>\n",
       "      <td>0.910557</td>\n",
       "      <td>0.925388</td>\n",
       "      <td>0.906691</td>\n",
       "      <td>0.929660</td>\n",
       "      <td>0.920091</td>\n",
       "    </tr>\n",
       "  </tbody>\n",
       "</table>\n",
       "</div>"
      ],
      "text/plain": [
       "             Mean    S.ADAB     S.XGB      S.DT      S.RF      S.GB     S.KNN  \\\n",
       "f_max    0.939130  0.936047  0.948640  0.935294  0.953846  0.950725  0.943620   \n",
       "auc      0.988710  0.981424  0.984727  0.948349  0.985614  0.979567  0.975697   \n",
       "mcc_max  0.902221  0.897343  0.920153  0.896698  0.930686  0.920897  0.910557   \n",
       "\n",
       "             S.LR      S.NB     S.MLP     S.SVM  \n",
       "f_max    0.953488  0.941860  0.956012  0.949853  \n",
       "auc      0.988338  0.975728  0.983240  0.979794  \n",
       "mcc_max  0.925388  0.906691  0.929660  0.920091  "
      ]
     },
     "execution_count": 13,
     "metadata": {},
     "output_type": "execute_result"
    }
   ],
   "source": [
    "EI.meta_summary['metrics']"
   ]
  },
  {
   "cell_type": "code",
   "execution_count": 14,
   "metadata": {},
   "outputs": [
    {
     "data": {
      "text/html": [
       "<div>\n",
       "<style scoped>\n",
       "    .dataframe tbody tr th:only-of-type {\n",
       "        vertical-align: middle;\n",
       "    }\n",
       "\n",
       "    .dataframe tbody tr th {\n",
       "        vertical-align: top;\n",
       "    }\n",
       "\n",
       "    .dataframe thead th {\n",
       "        text-align: right;\n",
       "    }\n",
       "</style>\n",
       "<table border=\"1\" class=\"dataframe\">\n",
       "  <thead>\n",
       "    <tr style=\"text-align: right;\">\n",
       "      <th></th>\n",
       "      <th>Mean</th>\n",
       "      <th>CES</th>\n",
       "      <th>S.ADAB</th>\n",
       "      <th>S.XGB</th>\n",
       "      <th>S.DT</th>\n",
       "      <th>S.RF</th>\n",
       "      <th>S.GB</th>\n",
       "      <th>S.KNN</th>\n",
       "      <th>S.LR</th>\n",
       "      <th>S.NB</th>\n",
       "      <th>S.MLP</th>\n",
       "      <th>S.SVM</th>\n",
       "    </tr>\n",
       "  </thead>\n",
       "  <tbody>\n",
       "    <tr>\n",
       "      <th>fmax (minority)</th>\n",
       "      <td>0.939130</td>\n",
       "      <td>0.947368</td>\n",
       "      <td>0.932153</td>\n",
       "      <td>0.948328</td>\n",
       "      <td>0.923077</td>\n",
       "      <td>0.950920</td>\n",
       "      <td>0.950437</td>\n",
       "      <td>0.943620</td>\n",
       "      <td>0.953488</td>\n",
       "      <td>0.941860</td>\n",
       "      <td>0.956012</td>\n",
       "      <td>0.949853</td>\n",
       "    </tr>\n",
       "    <tr>\n",
       "      <th>f (majority)</th>\n",
       "      <td>0.962832</td>\n",
       "      <td>0.968310</td>\n",
       "      <td>0.959720</td>\n",
       "      <td>0.970740</td>\n",
       "      <td>0.954545</td>\n",
       "      <td>0.972603</td>\n",
       "      <td>0.970018</td>\n",
       "      <td>0.966841</td>\n",
       "      <td>0.971731</td>\n",
       "      <td>0.964664</td>\n",
       "      <td>0.973638</td>\n",
       "      <td>0.970228</td>\n",
       "    </tr>\n",
       "    <tr>\n",
       "      <th>AUC</th>\n",
       "      <td>0.988710</td>\n",
       "      <td>0.990134</td>\n",
       "      <td>0.977141</td>\n",
       "      <td>0.986151</td>\n",
       "      <td>0.937771</td>\n",
       "      <td>0.985738</td>\n",
       "      <td>0.980361</td>\n",
       "      <td>0.976966</td>\n",
       "      <td>0.988380</td>\n",
       "      <td>0.975418</td>\n",
       "      <td>0.983385</td>\n",
       "      <td>0.979711</td>\n",
       "    </tr>\n",
       "    <tr>\n",
       "      <th>max MCC</th>\n",
       "      <td>0.902221</td>\n",
       "      <td>0.915720</td>\n",
       "      <td>0.891884</td>\n",
       "      <td>0.920696</td>\n",
       "      <td>0.877664</td>\n",
       "      <td>0.926137</td>\n",
       "      <td>0.921100</td>\n",
       "      <td>0.910557</td>\n",
       "      <td>0.925388</td>\n",
       "      <td>0.902221</td>\n",
       "      <td>0.929660</td>\n",
       "      <td>0.920091</td>\n",
       "    </tr>\n",
       "  </tbody>\n",
       "</table>\n",
       "</div>"
      ],
      "text/plain": [
       "                     Mean       CES    S.ADAB     S.XGB      S.DT      S.RF  \\\n",
       "fmax (minority)  0.939130  0.947368  0.932153  0.948328  0.923077  0.950920   \n",
       "f (majority)     0.962832  0.968310  0.959720  0.970740  0.954545  0.972603   \n",
       "AUC              0.988710  0.990134  0.977141  0.986151  0.937771  0.985738   \n",
       "max MCC          0.902221  0.915720  0.891884  0.920696  0.877664  0.926137   \n",
       "\n",
       "                     S.GB     S.KNN      S.LR      S.NB     S.MLP     S.SVM  \n",
       "fmax (minority)  0.950437  0.943620  0.953488  0.941860  0.956012  0.949853  \n",
       "f (majority)     0.970018  0.966841  0.971731  0.964664  0.973638  0.970228  \n",
       "AUC              0.980361  0.976966  0.988380  0.975418  0.983385  0.979711  \n",
       "max MCC          0.921100  0.910557  0.925388  0.902221  0.929660  0.920091  "
      ]
     },
     "execution_count": 14,
     "metadata": {},
     "output_type": "execute_result"
    }
   ],
   "source": [
    "EI.meta_summary['metrics']"
   ]
  },
  {
   "cell_type": "markdown",
   "metadata": {},
   "source": [
    "The MLP stacking algorithm has the best $\\text{F}_\\text{max}$ performance (the preferred metric for imbalanced datasets) so let's select it as our final model.\n",
    "\n",
    "### Predictions on unseen data\n",
    "\n",
    "Since we ran EI with `model_building=True`, we can make predictions. Let's predict the test set and apply the $\\text{F}_\\text{max}$ threshold calculated during training:"
   ]
  },
  {
   "cell_type": "code",
   "execution_count": 15,
   "metadata": {},
   "outputs": [
    {
     "name": "stdout",
     "output_type": "stream",
     "text": [
      "[0. 1. 0. 1. 0. 1. 1. 0. 1. 0. 0. 0. 0. 1. 0. 0. 1. 1. 0. 1. 0. 1. 1. 0.\n",
      " 1. 1. 1. 0. 0. 0. 0. 1. 0. 1. 0. 0. 0. 0. 1. 1. 1. 1. 1. 1. 0. 0. 0. 0.\n",
      " 0. 0. 0. 0. 0. 0. 0. 0. 1. 0. 1. 0. 0. 0. 0. 0. 0. 0. 0. 0. 0. 0. 0. 0.\n",
      " 0. 0. 1. 0. 0. 0. 1. 0. 0. 1. 0. 0. 1. 0. 1. 0. 0. 0. 1. 0. 0. 1. 1. 0.\n",
      " 1. 0. 0. 0. 1. 1. 0. 1. 0. 1. 0. 1. 1. 1. 1. 0. 0. 0.]\n"
     ]
    }
   ],
   "source": [
    "y_pred = EI.predict(X_dict=data_test, meta_model_key='S.MLP')\n",
    "\n",
    "threshold = EI.meta_summary['thresholds']['S.MLP']['fmax (minority)']\n",
    "\n",
    "y_pred[y_pred>=threshold] = 1\n",
    "y_pred[y_pred<threshold] = 0\n",
    "\n",
    "print(y_pred)"
   ]
  },
  {
   "cell_type": "markdown",
   "metadata": {},
   "source": [
    "\n",
    "### Interpreting the final model\n",
    "\n",
    "We now use `PermutationInterpreter` to interpret the final MLP stacked generalization model. Let's first import `PermutationInterpreter` and our chosen metric, and initialise the interpreter:"
   ]
  },
  {
   "cell_type": "code",
   "execution_count": 16,
   "metadata": {},
   "outputs": [],
   "source": [
    "from eipy.interpretation import PermutationInterpreter\n",
    "from eipy.utils import f_minority_score\n",
    "\n",
    "interpreter = PermutationInterpreter(EI=EI,\n",
    "                                     metric=f_minority_score,\n",
    "                                     meta_predictor_keys=['S.MLP'])"
   ]
  },
  {
   "cell_type": "markdown",
   "metadata": {},
   "source": [
    "Calculate feature importance scores:"
   ]
  },
  {
   "cell_type": "code",
   "execution_count": 17,
   "metadata": {},
   "outputs": [
    {
     "name": "stdout",
     "output_type": "stream",
     "text": [
      "Interpreting ensembles...\n",
      "\n"
     ]
    },
    {
     "name": "stderr",
     "output_type": "stream",
     "text": [
      "Calculating local feature ranks: |██████████|100%\n",
      "Calculating local model ranks: |██████████|100%\n"
     ]
    },
    {
     "name": "stdout",
     "output_type": "stream",
     "text": [
      "Calculating combined rank product score...\n",
      "... complete!\n"
     ]
    },
    {
     "data": {
      "text/plain": [
       "<eipy.interpretation.PermutationInterpreter at 0x7f0ed7943400>"
      ]
     },
     "execution_count": 17,
     "metadata": {},
     "output_type": "execute_result"
    }
   ],
   "source": [
    "interpreter.rank_product_score(X_dict=data_test, y=y_test)"
   ]
  },
  {
   "cell_type": "markdown",
   "metadata": {},
   "source": [
    "We can now inspect the most important features for model prediction:"
   ]
  },
  {
   "cell_type": "code",
   "execution_count": 18,
   "metadata": {},
   "outputs": [
    {
     "data": {
      "text/html": [
       "<div>\n",
       "<style scoped>\n",
       "    .dataframe tbody tr th:only-of-type {\n",
       "        vertical-align: middle;\n",
       "    }\n",
       "\n",
       "    .dataframe tbody tr th {\n",
       "        vertical-align: top;\n",
       "    }\n",
       "\n",
       "    .dataframe thead th {\n",
       "        text-align: right;\n",
       "    }\n",
       "</style>\n",
       "<table border=\"1\" class=\"dataframe\">\n",
       "  <thead>\n",
       "    <tr style=\"text-align: right;\">\n",
       "      <th></th>\n",
       "      <th>modality</th>\n",
       "      <th>feature</th>\n",
       "      <th>RPS</th>\n",
       "      <th>feature rank</th>\n",
       "      <th>ensemble method</th>\n",
       "    </tr>\n",
       "  </thead>\n",
       "  <tbody>\n",
       "    <tr>\n",
       "      <th>3</th>\n",
       "      <td>Modality_1</td>\n",
       "      <td>mean area</td>\n",
       "      <td>0.065750</td>\n",
       "      <td>1.0</td>\n",
       "      <td>S.MLP</td>\n",
       "    </tr>\n",
       "    <tr>\n",
       "      <th>23</th>\n",
       "      <td>Modality_2</td>\n",
       "      <td>worst area</td>\n",
       "      <td>0.121750</td>\n",
       "      <td>2.0</td>\n",
       "      <td>S.MLP</td>\n",
       "    </tr>\n",
       "    <tr>\n",
       "      <th>7</th>\n",
       "      <td>Modality_1</td>\n",
       "      <td>mean concave points</td>\n",
       "      <td>0.140500</td>\n",
       "      <td>3.0</td>\n",
       "      <td>S.MLP</td>\n",
       "    </tr>\n",
       "    <tr>\n",
       "      <th>6</th>\n",
       "      <td>Modality_1</td>\n",
       "      <td>mean concavity</td>\n",
       "      <td>0.167000</td>\n",
       "      <td>4.0</td>\n",
       "      <td>S.MLP</td>\n",
       "    </tr>\n",
       "    <tr>\n",
       "      <th>21</th>\n",
       "      <td>Modality_2</td>\n",
       "      <td>worst texture</td>\n",
       "      <td>0.178500</td>\n",
       "      <td>5.0</td>\n",
       "      <td>S.MLP</td>\n",
       "    </tr>\n",
       "    <tr>\n",
       "      <th>27</th>\n",
       "      <td>Modality_2</td>\n",
       "      <td>worst concave points</td>\n",
       "      <td>0.194500</td>\n",
       "      <td>6.0</td>\n",
       "      <td>S.MLP</td>\n",
       "    </tr>\n",
       "    <tr>\n",
       "      <th>0</th>\n",
       "      <td>Modality_1</td>\n",
       "      <td>mean radius</td>\n",
       "      <td>0.207000</td>\n",
       "      <td>7.0</td>\n",
       "      <td>S.MLP</td>\n",
       "    </tr>\n",
       "    <tr>\n",
       "      <th>1</th>\n",
       "      <td>Modality_1</td>\n",
       "      <td>mean texture</td>\n",
       "      <td>0.226000</td>\n",
       "      <td>8.0</td>\n",
       "      <td>S.MLP</td>\n",
       "    </tr>\n",
       "    <tr>\n",
       "      <th>22</th>\n",
       "      <td>Modality_2</td>\n",
       "      <td>worst perimeter</td>\n",
       "      <td>0.243750</td>\n",
       "      <td>9.0</td>\n",
       "      <td>S.MLP</td>\n",
       "    </tr>\n",
       "    <tr>\n",
       "      <th>2</th>\n",
       "      <td>Modality_1</td>\n",
       "      <td>mean perimeter</td>\n",
       "      <td>0.245750</td>\n",
       "      <td>10.0</td>\n",
       "      <td>S.MLP</td>\n",
       "    </tr>\n",
       "    <tr>\n",
       "      <th>26</th>\n",
       "      <td>Modality_2</td>\n",
       "      <td>worst concavity</td>\n",
       "      <td>0.249875</td>\n",
       "      <td>11.0</td>\n",
       "      <td>S.MLP</td>\n",
       "    </tr>\n",
       "    <tr>\n",
       "      <th>5</th>\n",
       "      <td>Modality_1</td>\n",
       "      <td>mean compactness</td>\n",
       "      <td>0.269000</td>\n",
       "      <td>12.0</td>\n",
       "      <td>S.MLP</td>\n",
       "    </tr>\n",
       "    <tr>\n",
       "      <th>13</th>\n",
       "      <td>Modality_2</td>\n",
       "      <td>area error</td>\n",
       "      <td>0.275000</td>\n",
       "      <td>13.0</td>\n",
       "      <td>S.MLP</td>\n",
       "    </tr>\n",
       "    <tr>\n",
       "      <th>4</th>\n",
       "      <td>Modality_1</td>\n",
       "      <td>mean smoothness</td>\n",
       "      <td>0.276500</td>\n",
       "      <td>14.0</td>\n",
       "      <td>S.MLP</td>\n",
       "    </tr>\n",
       "    <tr>\n",
       "      <th>20</th>\n",
       "      <td>Modality_2</td>\n",
       "      <td>worst radius</td>\n",
       "      <td>0.291625</td>\n",
       "      <td>15.0</td>\n",
       "      <td>S.MLP</td>\n",
       "    </tr>\n",
       "    <tr>\n",
       "      <th>24</th>\n",
       "      <td>Modality_2</td>\n",
       "      <td>worst smoothness</td>\n",
       "      <td>0.302250</td>\n",
       "      <td>16.0</td>\n",
       "      <td>S.MLP</td>\n",
       "    </tr>\n",
       "    <tr>\n",
       "      <th>8</th>\n",
       "      <td>Modality_1</td>\n",
       "      <td>mean symmetry</td>\n",
       "      <td>0.310500</td>\n",
       "      <td>17.0</td>\n",
       "      <td>S.MLP</td>\n",
       "    </tr>\n",
       "    <tr>\n",
       "      <th>9</th>\n",
       "      <td>Modality_1</td>\n",
       "      <td>mean fractal dimension</td>\n",
       "      <td>0.319500</td>\n",
       "      <td>18.0</td>\n",
       "      <td>S.MLP</td>\n",
       "    </tr>\n",
       "    <tr>\n",
       "      <th>12</th>\n",
       "      <td>Modality_2</td>\n",
       "      <td>perimeter error</td>\n",
       "      <td>0.321125</td>\n",
       "      <td>19.0</td>\n",
       "      <td>S.MLP</td>\n",
       "    </tr>\n",
       "    <tr>\n",
       "      <th>29</th>\n",
       "      <td>Modality_2</td>\n",
       "      <td>worst fractal dimension</td>\n",
       "      <td>0.374875</td>\n",
       "      <td>20.0</td>\n",
       "      <td>S.MLP</td>\n",
       "    </tr>\n",
       "    <tr>\n",
       "      <th>10</th>\n",
       "      <td>Modality_2</td>\n",
       "      <td>radius error</td>\n",
       "      <td>0.376875</td>\n",
       "      <td>21.0</td>\n",
       "      <td>S.MLP</td>\n",
       "    </tr>\n",
       "    <tr>\n",
       "      <th>25</th>\n",
       "      <td>Modality_2</td>\n",
       "      <td>worst compactness</td>\n",
       "      <td>0.385375</td>\n",
       "      <td>22.0</td>\n",
       "      <td>S.MLP</td>\n",
       "    </tr>\n",
       "    <tr>\n",
       "      <th>28</th>\n",
       "      <td>Modality_2</td>\n",
       "      <td>worst symmetry</td>\n",
       "      <td>0.393625</td>\n",
       "      <td>23.0</td>\n",
       "      <td>S.MLP</td>\n",
       "    </tr>\n",
       "    <tr>\n",
       "      <th>11</th>\n",
       "      <td>Modality_2</td>\n",
       "      <td>texture error</td>\n",
       "      <td>0.406500</td>\n",
       "      <td>24.0</td>\n",
       "      <td>S.MLP</td>\n",
       "    </tr>\n",
       "    <tr>\n",
       "      <th>15</th>\n",
       "      <td>Modality_2</td>\n",
       "      <td>compactness error</td>\n",
       "      <td>0.411875</td>\n",
       "      <td>25.0</td>\n",
       "      <td>S.MLP</td>\n",
       "    </tr>\n",
       "    <tr>\n",
       "      <th>16</th>\n",
       "      <td>Modality_2</td>\n",
       "      <td>concavity error</td>\n",
       "      <td>0.419000</td>\n",
       "      <td>26.0</td>\n",
       "      <td>S.MLP</td>\n",
       "    </tr>\n",
       "    <tr>\n",
       "      <th>14</th>\n",
       "      <td>Modality_2</td>\n",
       "      <td>smoothness error</td>\n",
       "      <td>0.423000</td>\n",
       "      <td>27.0</td>\n",
       "      <td>S.MLP</td>\n",
       "    </tr>\n",
       "    <tr>\n",
       "      <th>18</th>\n",
       "      <td>Modality_2</td>\n",
       "      <td>symmetry error</td>\n",
       "      <td>0.458375</td>\n",
       "      <td>28.0</td>\n",
       "      <td>S.MLP</td>\n",
       "    </tr>\n",
       "    <tr>\n",
       "      <th>19</th>\n",
       "      <td>Modality_2</td>\n",
       "      <td>fractal dimension error</td>\n",
       "      <td>0.460000</td>\n",
       "      <td>29.0</td>\n",
       "      <td>S.MLP</td>\n",
       "    </tr>\n",
       "    <tr>\n",
       "      <th>17</th>\n",
       "      <td>Modality_2</td>\n",
       "      <td>concave points error</td>\n",
       "      <td>0.484625</td>\n",
       "      <td>30.0</td>\n",
       "      <td>S.MLP</td>\n",
       "    </tr>\n",
       "  </tbody>\n",
       "</table>\n",
       "</div>"
      ],
      "text/plain": [
       "      modality                  feature       RPS  feature rank  \\\n",
       "3   Modality_1                mean area  0.065750           1.0   \n",
       "23  Modality_2               worst area  0.121750           2.0   \n",
       "7   Modality_1      mean concave points  0.140500           3.0   \n",
       "6   Modality_1           mean concavity  0.167000           4.0   \n",
       "21  Modality_2            worst texture  0.178500           5.0   \n",
       "27  Modality_2     worst concave points  0.194500           6.0   \n",
       "0   Modality_1              mean radius  0.207000           7.0   \n",
       "1   Modality_1             mean texture  0.226000           8.0   \n",
       "22  Modality_2          worst perimeter  0.243750           9.0   \n",
       "2   Modality_1           mean perimeter  0.245750          10.0   \n",
       "26  Modality_2          worst concavity  0.249875          11.0   \n",
       "5   Modality_1         mean compactness  0.269000          12.0   \n",
       "13  Modality_2               area error  0.275000          13.0   \n",
       "4   Modality_1          mean smoothness  0.276500          14.0   \n",
       "20  Modality_2             worst radius  0.291625          15.0   \n",
       "24  Modality_2         worst smoothness  0.302250          16.0   \n",
       "8   Modality_1            mean symmetry  0.310500          17.0   \n",
       "9   Modality_1   mean fractal dimension  0.319500          18.0   \n",
       "12  Modality_2          perimeter error  0.321125          19.0   \n",
       "29  Modality_2  worst fractal dimension  0.374875          20.0   \n",
       "10  Modality_2             radius error  0.376875          21.0   \n",
       "25  Modality_2        worst compactness  0.385375          22.0   \n",
       "28  Modality_2           worst symmetry  0.393625          23.0   \n",
       "11  Modality_2            texture error  0.406500          24.0   \n",
       "15  Modality_2        compactness error  0.411875          25.0   \n",
       "16  Modality_2          concavity error  0.419000          26.0   \n",
       "14  Modality_2         smoothness error  0.423000          27.0   \n",
       "18  Modality_2           symmetry error  0.458375          28.0   \n",
       "19  Modality_2  fractal dimension error  0.460000          29.0   \n",
       "17  Modality_2     concave points error  0.484625          30.0   \n",
       "\n",
       "   ensemble method  \n",
       "3            S.MLP  \n",
       "23           S.MLP  \n",
       "7            S.MLP  \n",
       "6            S.MLP  \n",
       "21           S.MLP  \n",
       "27           S.MLP  \n",
       "0            S.MLP  \n",
       "1            S.MLP  \n",
       "22           S.MLP  \n",
       "2            S.MLP  \n",
       "26           S.MLP  \n",
       "5            S.MLP  \n",
       "13           S.MLP  \n",
       "4            S.MLP  \n",
       "20           S.MLP  \n",
       "24           S.MLP  \n",
       "8            S.MLP  \n",
       "9            S.MLP  \n",
       "12           S.MLP  \n",
       "29           S.MLP  \n",
       "10           S.MLP  \n",
       "25           S.MLP  \n",
       "28           S.MLP  \n",
       "11           S.MLP  \n",
       "15           S.MLP  \n",
       "16           S.MLP  \n",
       "14           S.MLP  \n",
       "18           S.MLP  \n",
       "19           S.MLP  \n",
       "17           S.MLP  "
      ]
     },
     "execution_count": 18,
     "metadata": {},
     "output_type": "execute_result"
    }
   ],
   "source": [
    "ranking_dataframe = interpreter.ensemble_feature_ranking['S.MLP']\n",
    "\n",
    "ranking_dataframe"
   ]
  }
 ],
 "metadata": {
  "kernelspec": {
   "display_name": "tf",
   "language": "python",
   "name": "python3"
  },
  "language_info": {
   "codemirror_mode": {
    "name": "ipython",
    "version": 3
   },
   "file_extension": ".py",
   "mimetype": "text/x-python",
   "name": "python",
   "nbconvert_exporter": "python",
   "pygments_lexer": "ipython3",
   "version": "3.11.5"
  },
  "orig_nbformat": 4,
  "vscode": {
   "interpreter": {
    "hash": "11e74c3c36c376ffcb66f65df8248706fe68363becca747991fd07d52526dccb"
   }
  }
 },
 "nbformat": 4,
 "nbformat_minor": 2
}
