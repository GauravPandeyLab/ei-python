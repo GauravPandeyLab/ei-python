{
 "cells": [
  {
   "cell_type": "markdown",
   "metadata": {},
   "source": [
    "# Tutorial"
   ]
  },
  {
   "cell_type": "markdown",
   "metadata": {},
   "source": [
    "In this tutorial we fairly compare a number of ensemble methods using EI's built in nested cross-validation implementation, and show how predictions can be made with the selected final model. We then show how we can intepret the model by calculating feature rankings.\n",
    "\n",
    "### Performance analysis and selection of ensemble methods\n",
    "\n",
    "First of all let's import some `sklearn` models, `EnsembleIntegration` and some additional ensemble methods:"
   ]
  },
  {
   "cell_type": "code",
   "execution_count": 44,
   "metadata": {},
   "outputs": [],
   "source": [
    "from sklearn.ensemble import AdaBoostClassifier, GradientBoostingClassifier, RandomForestClassifier\n",
    "from sklearn.tree import DecisionTreeClassifier\n",
    "from sklearn.neighbors import KNeighborsClassifier\n",
    "from sklearn.linear_model import LogisticRegression\n",
    "from sklearn.naive_bayes import GaussianNB\n",
    "from sklearn.svm import SVC\n",
    "from sklearn.neural_network import MLPClassifier\n",
    "from xgboost import XGBClassifier\n",
    "import pandas as pd\n",
    "from eipy.ei import EnsembleIntegration\n",
    "from eipy.additional_ensembles import MeanAggregation, CES"
   ]
  },
  {
   "cell_type": "markdown",
   "metadata": {},
   "source": [
    "Next load the multi-modal youth diabetes dataset. "
   ]
  },
  {
   "cell_type": "code",
   "execution_count": 45,
   "metadata": {},
   "outputs": [
    {
     "name": "stdout",
     "output_type": "stream",
     "text": [
      "Modalities available are ['Sociodemographic', 'Health status', 'Diet', 'Other lifestyle behaviors']\n"
     ]
    }
   ],
   "source": [
    "from eipy.datasets import load_diabetes\n",
    "\n",
    "data = load_diabetes()\n",
    "X_train, X_test, y_train, y_test = data['X_train'], data['X_test'], data['y_train'], data['y_test']\n",
    "print('Modalities available are', list(X_train.keys()))"
   ]
  },
  {
   "cell_type": "markdown",
   "metadata": {},
   "source": [
    "Define metrics of interest. `fmax_score` is a custom metric that outputs both a score and a corresponding threshold."
   ]
  },
  {
   "cell_type": "code",
   "execution_count": 46,
   "metadata": {},
   "outputs": [],
   "source": [
    "from eipy.metrics import fmax_score\n",
    "from sklearn.metrics import roc_auc_score, matthews_corrcoef\n",
    "\n",
    "metrics = {\n",
    "            'f_max': fmax_score,\n",
    "            'auc': roc_auc_score,\n",
    "            'mcc': matthews_corrcoef\n",
    "            }"
   ]
  },
  {
   "cell_type": "markdown",
   "metadata": {},
   "source": [
    "Define base predictors:"
   ]
  },
  {
   "cell_type": "code",
   "execution_count": 47,
   "metadata": {},
   "outputs": [],
   "source": [
    "base_predictors = {\n",
    "                    'ADAB': AdaBoostClassifier(),\n",
    "                    'XGB': XGBClassifier(),\n",
    "                    'DT': DecisionTreeClassifier(),\n",
    "                    'RF': RandomForestClassifier(), \n",
    "                    'GB': GradientBoostingClassifier(),\n",
    "                    'KNN': KNeighborsClassifier(),\n",
    "                    'LR': LogisticRegression(),\n",
    "                    'NB': GaussianNB(),\n",
    "                    'MLP': MLPClassifier(),\n",
    "                    'SVM': SVC(probability=True),\n",
    "}"
   ]
  },
  {
   "cell_type": "markdown",
   "metadata": {},
   "source": [
    "Initialise Ensemble Integration:"
   ]
  },
  {
   "cell_type": "code",
   "execution_count": 48,
   "metadata": {},
   "outputs": [],
   "source": [
    "EI = EnsembleIntegration(\n",
    "                        base_predictors=base_predictors,\n",
    "                        k_outer=5,\n",
    "                        k_inner=5,\n",
    "                        n_samples=1,\n",
    "                        sampling_strategy=\"undersampling\",\n",
    "                        sampling_aggregation=None,\n",
    "                        n_jobs=-1,\n",
    "                        metrics=metrics,\n",
    "                        random_state=38,\n",
    "                        project_name=\"diabetes\",\n",
    "                        model_building=True,\n",
    "                        )"
   ]
  },
  {
   "cell_type": "markdown",
   "metadata": {},
   "source": [
    "Fit base predictors on each modality. Remember to include the unique modality name."
   ]
  },
  {
   "cell_type": "code",
   "execution_count": 49,
   "metadata": {},
   "outputs": [
    {
     "name": "stdout",
     "output_type": "stream",
     "text": [
      "Training base predictors on Sociodemographic...\n",
      "        \n",
      "... for ensemble performance analysis...\n"
     ]
    },
    {
     "name": "stderr",
     "output_type": "stream",
     "text": [
      "Generating ensemble training data: |██████████|100%\n",
      "Generating ensemble test data: |██████████|100%\n"
     ]
    },
    {
     "name": "stdout",
     "output_type": "stream",
     "text": [
      "\n",
      "... for final ensemble...\n"
     ]
    },
    {
     "name": "stderr",
     "output_type": "stream",
     "text": [
      "Generating ensemble training data: |██████████|100%\n",
      "Training final base predictors: |██████████|100%\n"
     ]
    },
    {
     "name": "stdout",
     "output_type": "stream",
     "text": [
      "\n",
      "\n",
      "Training base predictors on Health status...\n",
      "        \n",
      "... for ensemble performance analysis...\n"
     ]
    },
    {
     "name": "stderr",
     "output_type": "stream",
     "text": [
      "Generating ensemble training data: |██████████|100%\n",
      "Generating ensemble test data: |██████████|100%\n"
     ]
    },
    {
     "name": "stdout",
     "output_type": "stream",
     "text": [
      "\n",
      "... for final ensemble...\n"
     ]
    },
    {
     "name": "stderr",
     "output_type": "stream",
     "text": [
      "Generating ensemble training data: |██████████|100%\n",
      "Training final base predictors: |██████████|100%\n"
     ]
    },
    {
     "name": "stdout",
     "output_type": "stream",
     "text": [
      "\n",
      "\n",
      "Training base predictors on Diet...\n",
      "        \n",
      "... for ensemble performance analysis...\n"
     ]
    },
    {
     "name": "stderr",
     "output_type": "stream",
     "text": [
      "Generating ensemble training data: |██████████|100%\n",
      "Generating ensemble test data: |██████████|100%\n"
     ]
    },
    {
     "name": "stdout",
     "output_type": "stream",
     "text": [
      "\n",
      "... for final ensemble...\n"
     ]
    },
    {
     "name": "stderr",
     "output_type": "stream",
     "text": [
      "Generating ensemble training data: |██████████|100%\n",
      "Training final base predictors: |██████████|100%\n"
     ]
    },
    {
     "name": "stdout",
     "output_type": "stream",
     "text": [
      "\n",
      "\n",
      "Training base predictors on Other lifestyle behaviors...\n",
      "        \n",
      "... for ensemble performance analysis...\n"
     ]
    },
    {
     "name": "stderr",
     "output_type": "stream",
     "text": [
      "Generating ensemble training data: |██████████|100%\n",
      "Generating ensemble test data: |██████████|100%\n"
     ]
    },
    {
     "name": "stdout",
     "output_type": "stream",
     "text": [
      "\n",
      "... for final ensemble...\n"
     ]
    },
    {
     "name": "stderr",
     "output_type": "stream",
     "text": [
      "Generating ensemble training data: |██████████|100%\n",
      "Training final base predictors: |██████████|100%\n"
     ]
    },
    {
     "name": "stdout",
     "output_type": "stream",
     "text": [
      "\n",
      "\n"
     ]
    }
   ],
   "source": [
    "for name, modality in X_train.items():\n",
    "    EI.fit_base(modality, y_train, modality_name=name)"
   ]
  },
  {
   "cell_type": "markdown",
   "metadata": {},
   "source": [
    "We can check the cross validated performance of each base predictor on each modality with the `base_summary` dictionary. The metric scores are stored in a dataframe and can be accessed with the `metrics` key. The corresponding threshold values used to threshold the probability vector can be accessed with the `thresholds` key. "
   ]
  },
  {
   "cell_type": "code",
   "execution_count": 50,
   "metadata": {},
   "outputs": [
    {
     "data": {
      "text/html": [
       "<div>\n",
       "<style scoped>\n",
       "    .dataframe tbody tr th:only-of-type {\n",
       "        vertical-align: middle;\n",
       "    }\n",
       "\n",
       "    .dataframe tbody tr th {\n",
       "        vertical-align: top;\n",
       "    }\n",
       "\n",
       "    .dataframe thead tr th {\n",
       "        text-align: left;\n",
       "    }\n",
       "</style>\n",
       "<table border=\"1\" class=\"dataframe\">\n",
       "  <thead>\n",
       "    <tr>\n",
       "      <th>modality</th>\n",
       "      <th colspan=\"10\" halign=\"left\">Diet</th>\n",
       "      <th>...</th>\n",
       "      <th colspan=\"10\" halign=\"left\">Sociodemographic</th>\n",
       "    </tr>\n",
       "    <tr>\n",
       "      <th>base predictor</th>\n",
       "      <th>ADAB</th>\n",
       "      <th>DT</th>\n",
       "      <th>GB</th>\n",
       "      <th>KNN</th>\n",
       "      <th>LR</th>\n",
       "      <th>MLP</th>\n",
       "      <th>NB</th>\n",
       "      <th>RF</th>\n",
       "      <th>SVM</th>\n",
       "      <th>XGB</th>\n",
       "      <th>...</th>\n",
       "      <th>ADAB</th>\n",
       "      <th>DT</th>\n",
       "      <th>GB</th>\n",
       "      <th>KNN</th>\n",
       "      <th>LR</th>\n",
       "      <th>MLP</th>\n",
       "      <th>NB</th>\n",
       "      <th>RF</th>\n",
       "      <th>SVM</th>\n",
       "      <th>XGB</th>\n",
       "    </tr>\n",
       "  </thead>\n",
       "  <tbody>\n",
       "    <tr>\n",
       "      <th>f_max</th>\n",
       "      <td>0.235738</td>\n",
       "      <td>0.222865</td>\n",
       "      <td>0.235282</td>\n",
       "      <td>0.224144</td>\n",
       "      <td>0.251120</td>\n",
       "      <td>0.228173</td>\n",
       "      <td>0.225817</td>\n",
       "      <td>0.234442</td>\n",
       "      <td>0.239102</td>\n",
       "      <td>0.231233</td>\n",
       "      <td>...</td>\n",
       "      <td>0.264833</td>\n",
       "      <td>0.227289</td>\n",
       "      <td>0.271730</td>\n",
       "      <td>0.235114</td>\n",
       "      <td>0.274428</td>\n",
       "      <td>0.248038</td>\n",
       "      <td>0.247952</td>\n",
       "      <td>0.264974</td>\n",
       "      <td>0.271551</td>\n",
       "      <td>0.254824</td>\n",
       "    </tr>\n",
       "    <tr>\n",
       "      <th>auc</th>\n",
       "      <td>0.559842</td>\n",
       "      <td>0.525266</td>\n",
       "      <td>0.564876</td>\n",
       "      <td>0.520080</td>\n",
       "      <td>0.592825</td>\n",
       "      <td>0.537618</td>\n",
       "      <td>0.532803</td>\n",
       "      <td>0.556643</td>\n",
       "      <td>0.568244</td>\n",
       "      <td>0.554326</td>\n",
       "      <td>...</td>\n",
       "      <td>0.626564</td>\n",
       "      <td>0.538970</td>\n",
       "      <td>0.630678</td>\n",
       "      <td>0.562166</td>\n",
       "      <td>0.630872</td>\n",
       "      <td>0.584445</td>\n",
       "      <td>0.587617</td>\n",
       "      <td>0.618888</td>\n",
       "      <td>0.629168</td>\n",
       "      <td>0.594908</td>\n",
       "    </tr>\n",
       "    <tr>\n",
       "      <th>mcc</th>\n",
       "      <td>0.062157</td>\n",
       "      <td>0.033347</td>\n",
       "      <td>0.059942</td>\n",
       "      <td>0.018450</td>\n",
       "      <td>0.094138</td>\n",
       "      <td>0.041208</td>\n",
       "      <td>0.038954</td>\n",
       "      <td>0.054486</td>\n",
       "      <td>0.062126</td>\n",
       "      <td>0.057688</td>\n",
       "      <td>...</td>\n",
       "      <td>0.115635</td>\n",
       "      <td>0.051554</td>\n",
       "      <td>0.125628</td>\n",
       "      <td>0.063908</td>\n",
       "      <td>0.130140</td>\n",
       "      <td>0.090261</td>\n",
       "      <td>0.081534</td>\n",
       "      <td>0.113642</td>\n",
       "      <td>0.128070</td>\n",
       "      <td>0.098644</td>\n",
       "    </tr>\n",
       "  </tbody>\n",
       "</table>\n",
       "<p>3 rows × 40 columns</p>\n",
       "</div>"
      ],
      "text/plain": [
       "modality            Diet                                                    \\\n",
       "base predictor      ADAB        DT        GB       KNN        LR       MLP   \n",
       "f_max           0.235738  0.222865  0.235282  0.224144  0.251120  0.228173   \n",
       "auc             0.559842  0.525266  0.564876  0.520080  0.592825  0.537618   \n",
       "mcc             0.062157  0.033347  0.059942  0.018450  0.094138  0.041208   \n",
       "\n",
       "modality                                                ... Sociodemographic  \\\n",
       "base predictor        NB        RF       SVM       XGB  ...             ADAB   \n",
       "f_max           0.225817  0.234442  0.239102  0.231233  ...         0.264833   \n",
       "auc             0.532803  0.556643  0.568244  0.554326  ...         0.626564   \n",
       "mcc             0.038954  0.054486  0.062126  0.057688  ...         0.115635   \n",
       "\n",
       "modality                                                                    \\\n",
       "base predictor        DT        GB       KNN        LR       MLP        NB   \n",
       "f_max           0.227289  0.271730  0.235114  0.274428  0.248038  0.247952   \n",
       "auc             0.538970  0.630678  0.562166  0.630872  0.584445  0.587617   \n",
       "mcc             0.051554  0.125628  0.063908  0.130140  0.090261  0.081534   \n",
       "\n",
       "modality                                      \n",
       "base predictor        RF       SVM       XGB  \n",
       "f_max           0.264974  0.271551  0.254824  \n",
       "auc             0.618888  0.629168  0.594908  \n",
       "mcc             0.113642  0.128070  0.098644  \n",
       "\n",
       "[3 rows x 40 columns]"
      ]
     },
     "execution_count": 50,
     "metadata": {},
     "output_type": "execute_result"
    }
   ],
   "source": [
    "EI.base_summary['metrics']"
   ]
  },
  {
   "cell_type": "markdown",
   "metadata": {},
   "source": [
    "Now let's define some ensemble models for stacked generalization. We add an \"S.\" prefix to the keys of stacking algorithms."
   ]
  },
  {
   "cell_type": "code",
   "execution_count": 51,
   "metadata": {},
   "outputs": [],
   "source": [
    "ensemble_predictors = {     \n",
    "                    'Mean' : MeanAggregation(),\n",
    "                    'CES' : CES(scoring=lambda y_test, y_pred: fmax_score(y_test, y_pred)[0]),\n",
    "                    'S.ADAB': AdaBoostClassifier(),\n",
    "                    'S.XGB': XGBClassifier(),\n",
    "                    'S.DT': DecisionTreeClassifier(),\n",
    "                    \"S.RF\": RandomForestClassifier(), \n",
    "                    'S.GB': GradientBoostingClassifier(),\n",
    "                    'S.KNN': KNeighborsClassifier(),\n",
    "                    'S.LR': LogisticRegression(),\n",
    "                    'S.NB': GaussianNB(),\n",
    "                    'S.MLP': MLPClassifier(),\n",
    "                    'S.SVM': SVC(probability=True),\n",
    "}"
   ]
  },
  {
   "cell_type": "markdown",
   "metadata": {},
   "source": [
    "Fit ensemble models:"
   ]
  },
  {
   "cell_type": "code",
   "execution_count": 52,
   "metadata": {},
   "outputs": [
    {
     "name": "stderr",
     "output_type": "stream",
     "text": [
      "Analyzing ensembles: |          |  0%"
     ]
    },
    {
     "name": "stderr",
     "output_type": "stream",
     "text": [
      "Analyzing ensembles: |██████████|100%\n",
      "Training final ensemble models: |██████████|100%\n"
     ]
    },
    {
     "data": {
      "text/plain": [
       "<eipy.ei.EnsembleIntegration at 0x7f05c036b010>"
      ]
     },
     "execution_count": 52,
     "metadata": {},
     "output_type": "execute_result"
    }
   ],
   "source": [
    "EI.fit_ensemble(ensemble_predictors=ensemble_predictors)"
   ]
  },
  {
   "cell_type": "markdown",
   "metadata": {},
   "source": [
    "Check the ensemble summary with `ensemble_summary`:"
   ]
  },
  {
   "cell_type": "code",
   "execution_count": 53,
   "metadata": {},
   "outputs": [
    {
     "data": {
      "text/html": [
       "<div>\n",
       "<style scoped>\n",
       "    .dataframe tbody tr th:only-of-type {\n",
       "        vertical-align: middle;\n",
       "    }\n",
       "\n",
       "    .dataframe tbody tr th {\n",
       "        vertical-align: top;\n",
       "    }\n",
       "\n",
       "    .dataframe thead th {\n",
       "        text-align: right;\n",
       "    }\n",
       "</style>\n",
       "<table border=\"1\" class=\"dataframe\">\n",
       "  <thead>\n",
       "    <tr style=\"text-align: right;\">\n",
       "      <th></th>\n",
       "      <th>Mean</th>\n",
       "      <th>CES</th>\n",
       "      <th>S.ADAB</th>\n",
       "      <th>S.XGB</th>\n",
       "      <th>S.DT</th>\n",
       "      <th>S.RF</th>\n",
       "      <th>S.GB</th>\n",
       "      <th>S.KNN</th>\n",
       "      <th>S.LR</th>\n",
       "      <th>S.NB</th>\n",
       "      <th>S.MLP</th>\n",
       "      <th>S.SVM</th>\n",
       "    </tr>\n",
       "  </thead>\n",
       "  <tbody>\n",
       "    <tr>\n",
       "      <th>f_max</th>\n",
       "      <td>0.279307</td>\n",
       "      <td>0.297275</td>\n",
       "      <td>0.292202</td>\n",
       "      <td>0.260111</td>\n",
       "      <td>0.222865</td>\n",
       "      <td>0.27744</td>\n",
       "      <td>0.295322</td>\n",
       "      <td>0.228696</td>\n",
       "      <td>0.304192</td>\n",
       "      <td>0.300064</td>\n",
       "      <td>0.278088</td>\n",
       "      <td>0.240511</td>\n",
       "    </tr>\n",
       "    <tr>\n",
       "      <th>auc</th>\n",
       "      <td>0.648915</td>\n",
       "      <td>0.664662</td>\n",
       "      <td>0.652463</td>\n",
       "      <td>0.611726</td>\n",
       "      <td>0.523156</td>\n",
       "      <td>0.64466</td>\n",
       "      <td>0.667541</td>\n",
       "      <td>0.552092</td>\n",
       "      <td>0.678055</td>\n",
       "      <td>0.673285</td>\n",
       "      <td>0.642210</td>\n",
       "      <td>0.573379</td>\n",
       "    </tr>\n",
       "    <tr>\n",
       "      <th>mcc</th>\n",
       "      <td>0.140871</td>\n",
       "      <td>0.154157</td>\n",
       "      <td>0.060963</td>\n",
       "      <td>0.057347</td>\n",
       "      <td>0.046134</td>\n",
       "      <td>0.03141</td>\n",
       "      <td>0.053177</td>\n",
       "      <td>0.050426</td>\n",
       "      <td>0.014030</td>\n",
       "      <td>0.168266</td>\n",
       "      <td>0.056389</td>\n",
       "      <td>0.004238</td>\n",
       "    </tr>\n",
       "  </tbody>\n",
       "</table>\n",
       "</div>"
      ],
      "text/plain": [
       "           Mean       CES    S.ADAB     S.XGB      S.DT     S.RF      S.GB  \\\n",
       "f_max  0.279307  0.297275  0.292202  0.260111  0.222865  0.27744  0.295322   \n",
       "auc    0.648915  0.664662  0.652463  0.611726  0.523156  0.64466  0.667541   \n",
       "mcc    0.140871  0.154157  0.060963  0.057347  0.046134  0.03141  0.053177   \n",
       "\n",
       "          S.KNN      S.LR      S.NB     S.MLP     S.SVM  \n",
       "f_max  0.228696  0.304192  0.300064  0.278088  0.240511  \n",
       "auc    0.552092  0.678055  0.673285  0.642210  0.573379  \n",
       "mcc    0.050426  0.014030  0.168266  0.056389  0.004238  "
      ]
     },
     "execution_count": 53,
     "metadata": {},
     "output_type": "execute_result"
    }
   ],
   "source": [
    "EI.ensemble_summary['metrics']"
   ]
  },
  {
   "cell_type": "markdown",
   "metadata": {},
   "source": [
    "The LR stacking algorithm has the best $\\text{F}_\\text{max}$ performance (the preferred metric for imbalanced datasets) so let's select it as our final model.\n",
    "\n",
    "### Predictions on unseen data\n",
    "\n",
    "Since we ran EI with `model_building=True`, we can make predictions. Let's predict the test set and apply the $\\text{F}_\\text{max}$ threshold calculated during training:"
   ]
  },
  {
   "cell_type": "code",
   "execution_count": 54,
   "metadata": {},
   "outputs": [
    {
     "name": "stdout",
     "output_type": "stream",
     "text": [
      "[0. 1. 1. ... 0. 1. 1.]\n"
     ]
    }
   ],
   "source": [
    "y_pred = EI.predict(X_dict=X_test, ensemble_model_key='S.LR')\n",
    "\n",
    "threshold = EI.ensemble_summary['thresholds']['S.LR']['f_max']\n",
    "\n",
    "y_pred[y_pred>=threshold] = 1\n",
    "y_pred[y_pred<threshold] = 0\n",
    "\n",
    "print(y_pred)"
   ]
  },
  {
   "cell_type": "markdown",
   "metadata": {},
   "source": [
    "\n",
    "### Interpreting the final model\n",
    "\n",
    "We now use `PermutationInterpreter` to interpret the final LR stacked generalization model. Let's first import `PermutationInterpreter` and our chosen metric, and initialise the interpreter:"
   ]
  },
  {
   "cell_type": "code",
   "execution_count": 55,
   "metadata": {},
   "outputs": [],
   "source": [
    "from eipy.interpretation import PermutationInterpreter\n",
    "\n",
    "interpreter = PermutationInterpreter(EI=EI,\n",
    "                                     metric=lambda y_test, y_pred: fmax_score(y_test, y_pred)[0],\n",
    "                                     ensemble_predictor_keys=['S.LR'],\n",
    "                                     n_jobs=-1)"
   ]
  },
  {
   "cell_type": "markdown",
   "metadata": {},
   "source": [
    "Calculate feature importance scores:"
   ]
  },
  {
   "cell_type": "code",
   "execution_count": 56,
   "metadata": {},
   "outputs": [
    {
     "name": "stdout",
     "output_type": "stream",
     "text": [
      "Interpreting ensembles...\n",
      "\n"
     ]
    },
    {
     "name": "stderr",
     "output_type": "stream",
     "text": [
      "Calculating local feature ranks: |██████████|100%\n",
      "Calculating local model ranks: |██████████|100%"
     ]
    },
    {
     "name": "stdout",
     "output_type": "stream",
     "text": [
      "Calculating combined rank product score...\n",
      "... complete!\n"
     ]
    },
    {
     "name": "stderr",
     "output_type": "stream",
     "text": [
      "\n"
     ]
    },
    {
     "data": {
      "text/plain": [
       "<eipy.interpretation.PermutationInterpreter at 0x7f06008e1590>"
      ]
     },
     "execution_count": 56,
     "metadata": {},
     "output_type": "execute_result"
    }
   ],
   "source": [
    "interpreter.rank_product_score(X_dict=X_test, y=y_test)"
   ]
  },
  {
   "cell_type": "markdown",
   "metadata": {},
   "source": [
    "We can now inspect the most important features for model prediction:"
   ]
  },
  {
   "cell_type": "code",
   "execution_count": 57,
   "metadata": {},
   "outputs": [
    {
     "data": {
      "text/html": [
       "<div>\n",
       "<style scoped>\n",
       "    .dataframe tbody tr th:only-of-type {\n",
       "        vertical-align: middle;\n",
       "    }\n",
       "\n",
       "    .dataframe tbody tr th {\n",
       "        vertical-align: top;\n",
       "    }\n",
       "\n",
       "    .dataframe thead th {\n",
       "        text-align: right;\n",
       "    }\n",
       "</style>\n",
       "<table border=\"1\" class=\"dataframe\">\n",
       "  <thead>\n",
       "    <tr style=\"text-align: right;\">\n",
       "      <th></th>\n",
       "      <th>modality</th>\n",
       "      <th>feature</th>\n",
       "      <th>RPS</th>\n",
       "      <th>feature rank</th>\n",
       "      <th>ensemble method</th>\n",
       "    </tr>\n",
       "  </thead>\n",
       "  <tbody>\n",
       "    <tr>\n",
       "      <th>38</th>\n",
       "      <td>Health status</td>\n",
       "      <td>BMXHT</td>\n",
       "      <td>0.104007</td>\n",
       "      <td>1.0</td>\n",
       "      <td>S.LR</td>\n",
       "    </tr>\n",
       "    <tr>\n",
       "      <th>21</th>\n",
       "      <td>Sociodemographic</td>\n",
       "      <td>FdStmp</td>\n",
       "      <td>0.126047</td>\n",
       "      <td>2.0</td>\n",
       "      <td>S.LR</td>\n",
       "    </tr>\n",
       "    <tr>\n",
       "      <th>0</th>\n",
       "      <td>Sociodemographic</td>\n",
       "      <td>RIAGENDR</td>\n",
       "      <td>0.126740</td>\n",
       "      <td>3.0</td>\n",
       "      <td>S.LR</td>\n",
       "    </tr>\n",
       "    <tr>\n",
       "      <th>1</th>\n",
       "      <td>Sociodemographic</td>\n",
       "      <td>RIDAGEYR</td>\n",
       "      <td>0.154443</td>\n",
       "      <td>4.0</td>\n",
       "      <td>S.LR</td>\n",
       "    </tr>\n",
       "    <tr>\n",
       "      <th>29</th>\n",
       "      <td>Sociodemographic</td>\n",
       "      <td>OvntPT</td>\n",
       "      <td>0.160676</td>\n",
       "      <td>5.0</td>\n",
       "      <td>S.LR</td>\n",
       "    </tr>\n",
       "    <tr>\n",
       "      <th>...</th>\n",
       "      <td>...</td>\n",
       "      <td>...</td>\n",
       "      <td>...</td>\n",
       "      <td>...</td>\n",
       "      <td>...</td>\n",
       "    </tr>\n",
       "    <tr>\n",
       "      <th>35</th>\n",
       "      <td>Sociodemographic</td>\n",
       "      <td>InSchool</td>\n",
       "      <td>0.380912</td>\n",
       "      <td>104.0</td>\n",
       "      <td>S.LR</td>\n",
       "    </tr>\n",
       "    <tr>\n",
       "      <th>3</th>\n",
       "      <td>Sociodemographic</td>\n",
       "      <td>DMDHRGND</td>\n",
       "      <td>0.383682</td>\n",
       "      <td>105.0</td>\n",
       "      <td>S.LR</td>\n",
       "    </tr>\n",
       "    <tr>\n",
       "      <th>71</th>\n",
       "      <td>Diet</td>\n",
       "      <td>VDrkGr</td>\n",
       "      <td>0.394518</td>\n",
       "      <td>106.0</td>\n",
       "      <td>S.LR</td>\n",
       "    </tr>\n",
       "    <tr>\n",
       "      <th>105</th>\n",
       "      <td>Other lifestyle behaviors</td>\n",
       "      <td>HHSmkNum</td>\n",
       "      <td>0.422812</td>\n",
       "      <td>107.0</td>\n",
       "      <td>S.LR</td>\n",
       "    </tr>\n",
       "    <tr>\n",
       "      <th>88</th>\n",
       "      <td>Diet</td>\n",
       "      <td>Pmps</td>\n",
       "      <td>0.430820</td>\n",
       "      <td>108.0</td>\n",
       "      <td>S.LR</td>\n",
       "    </tr>\n",
       "  </tbody>\n",
       "</table>\n",
       "<p>108 rows × 5 columns</p>\n",
       "</div>"
      ],
      "text/plain": [
       "                      modality   feature       RPS  feature rank  \\\n",
       "38               Health status     BMXHT  0.104007           1.0   \n",
       "21            Sociodemographic    FdStmp  0.126047           2.0   \n",
       "0             Sociodemographic  RIAGENDR  0.126740           3.0   \n",
       "1             Sociodemographic  RIDAGEYR  0.154443           4.0   \n",
       "29            Sociodemographic    OvntPT  0.160676           5.0   \n",
       "..                         ...       ...       ...           ...   \n",
       "35            Sociodemographic  InSchool  0.380912         104.0   \n",
       "3             Sociodemographic  DMDHRGND  0.383682         105.0   \n",
       "71                        Diet    VDrkGr  0.394518         106.0   \n",
       "105  Other lifestyle behaviors  HHSmkNum  0.422812         107.0   \n",
       "88                        Diet      Pmps  0.430820         108.0   \n",
       "\n",
       "    ensemble method  \n",
       "38             S.LR  \n",
       "21             S.LR  \n",
       "0              S.LR  \n",
       "1              S.LR  \n",
       "29             S.LR  \n",
       "..              ...  \n",
       "35             S.LR  \n",
       "3              S.LR  \n",
       "71             S.LR  \n",
       "105            S.LR  \n",
       "88             S.LR  \n",
       "\n",
       "[108 rows x 5 columns]"
      ]
     },
     "execution_count": 57,
     "metadata": {},
     "output_type": "execute_result"
    }
   ],
   "source": [
    "ranking_dataframe = interpreter.ensemble_feature_ranking['S.LR']\n",
    "\n",
    "ranking_dataframe"
   ]
  }
 ],
 "metadata": {
  "kernelspec": {
   "display_name": "tf",
   "language": "python",
   "name": "python3"
  },
  "language_info": {
   "codemirror_mode": {
    "name": "ipython",
    "version": 3
   },
   "file_extension": ".py",
   "mimetype": "text/x-python",
   "name": "python",
   "nbconvert_exporter": "python",
   "pygments_lexer": "ipython3",
   "version": "3.11.5"
  },
  "orig_nbformat": 4,
  "vscode": {
   "interpreter": {
    "hash": "11e74c3c36c376ffcb66f65df8248706fe68363becca747991fd07d52526dccb"
   }
  }
 },
 "nbformat": 4,
 "nbformat_minor": 2
}
